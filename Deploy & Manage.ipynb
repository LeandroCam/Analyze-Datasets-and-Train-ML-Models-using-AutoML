{
 "cells": [
  {
   "cell_type": "markdown",
   "id": "5efb8988",
   "metadata": {},
   "source": [
    "we will use Amazon Sagemaker Autopilot to train a BERT-based natural language processing (NLP) model. The model will analyze customer feedback and classify the messages into positive (1), neutral (0) and negative (-1) sentiment.\n",
    "Amazon SageMaker Autopilot automatically trains and tunes the best machine learning models for classification or regression, based on your data while allowing to maintain full control and visibility."
   ]
  },
  {
   "cell_type": "code",
   "execution_count": null,
   "id": "253733ca",
   "metadata": {},
   "outputs": [],
   "source": [
    "# please ignore warning messages during the installation\n",
    "!pip install --disable-pip-version-check -q sagemaker==2.35.0"
   ]
  },
  {
   "cell_type": "code",
   "execution_count": null,
   "id": "34ebfe04",
   "metadata": {},
   "outputs": [],
   "source": [
    "import boto3\n",
    "import sagemaker\n",
    "import pandas as pd\n",
    "import numpy as np\n",
    "import botocore\n",
    "import time\n",
    "import json\n",
    "\n",
    "config = botocore.config.Config(user_agent_extra='dlai-pds/c1/w3')\n",
    "\n",
    "# low-level service client of the boto3 session\n",
    "sm = boto3.client(service_name='sagemaker', \n",
    "                  config=config)\n",
    "\n",
    "sm_runtime = boto3.client('sagemaker-runtime',\n",
    "                          config=config)\n",
    "\n",
    "sess = sagemaker.Session(sagemaker_client=sm,\n",
    "                         sagemaker_runtime_client=sm_runtime)\n",
    "\n",
    "bucket = sess.default_bucket()\n",
    "role = sagemaker.get_execution_role()\n",
    "region = sess.boto_region_name"
   ]
  },
  {
   "cell_type": "code",
   "execution_count": null,
   "id": "0c16c0e0",
   "metadata": {},
   "outputs": [],
   "source": [
    "import matplotlib.pyplot as plt\n",
    "%matplotlib inline\n",
    "%config InlineBackend.figure_format='retina'"
   ]
  },
  {
   "cell_type": "markdown",
   "id": "715f31d8",
   "metadata": {},
   "source": [
    "Let's transform the dataset into a format that Autopilot recognizes. Specifically, a comma-separated file of label:\n",
    "Sentiment is one of three classes: negative (-1), neutral (0), or positive (1). Autopilot requires that the target variable, sentiment is first and the set of features, just review_body in this case, come next.\n"
   ]
  },
  {
   "cell_type": "code",
   "execution_count": null,
   "id": "44ddcb1d",
   "metadata": {},
   "outputs": [],
   "source": [
    "!aws s3 cp 's3://dlai-practical-data-science/data/balanced/womens_clothing_ecommerce_reviews_balanced.csv' ./"
   ]
  },
  {
   "cell_type": "code",
   "execution_count": null,
   "id": "f3e93c88",
   "metadata": {},
   "outputs": [],
   "source": [
    "path = './womens_clothing_ecommerce_reviews_balanced.csv'\n",
    "\n",
    "df = pd.read_csv(path, delimiter=',')\n",
    "df.head()"
   ]
  },
  {
   "cell_type": "code",
   "execution_count": null,
   "id": "ae6749db",
   "metadata": {},
   "outputs": [],
   "source": [
    "path_autopilot = './womens_clothing_ecommerce_reviews_balanced_for_autopilot.csv'\n",
    "\n",
    "df[['sentiment', 'review_body']].to_csv(path_autopilot, \n",
    "                                        sep=',', \n",
    "                                        index=False)"
   ]
  },
  {
   "cell_type": "markdown",
   "id": "7f54f4e4",
   "metadata": {},
   "source": [
    "Configure the Autopilot job"
   ]
  },
  {
   "cell_type": "code",
   "execution_count": null,
   "id": "9b9473ac",
   "metadata": {},
   "outputs": [],
   "source": [
    "autopilot_train_s3_uri = sess.upload_data(bucket=bucket, key_prefix='autopilot/data', path=path_autopilot)\n",
    "autopilot_train_s3_uri"
   ]
  },
  {
   "cell_type": "code",
   "execution_count": null,
   "id": "e7700012",
   "metadata": {},
   "outputs": [],
   "source": [
    "!aws s3 ls $autopilot_train_s3_uri"
   ]
  },
  {
   "cell_type": "markdown",
   "id": "0c60349d",
   "metadata": {},
   "source": [
    "Set the S3 output path for the Autopilot outputs. This includes Jupyter notebooks (analysis), Python scripts (feature engineering), and trained models."
   ]
  },
  {
   "cell_type": "code",
   "execution_count": null,
   "id": "2871d741",
   "metadata": {},
   "outputs": [],
   "source": [
    "model_output_s3_uri = 's3://{}/autopilot'.format(bucket)\n",
    "\n",
    "print(model_output_s3_uri)"
   ]
  },
  {
   "cell_type": "markdown",
   "id": "8ab2a7ad",
   "metadata": {},
   "source": [
    "Create the Autopilot job name."
   ]
  },
  {
   "cell_type": "code",
   "execution_count": null,
   "id": "9949ef10",
   "metadata": {},
   "outputs": [],
   "source": [
    "import time\n",
    "\n",
    "timestamp = int(time.time())\n",
    "\n",
    "auto_ml_job_name = 'automl-dm-{}'.format(timestamp)"
   ]
  },
  {
   "cell_type": "markdown",
   "id": "855b3671",
   "metadata": {},
   "source": [
    "When configuring our Autopilot job, you need to specify the maximum number of candidates, max_candidates, to explore as well as the input/output S3 locations and target column to predict. In this case, you want to predict sentiment from the review text."
   ]
  },
  {
   "cell_type": "code",
   "execution_count": null,
   "id": "e5b62f27",
   "metadata": {},
   "outputs": [],
   "source": [
    "max_candidates = 3\n",
    "\n",
    "automl = sagemaker.automl.automl.AutoML(\n",
    "    ### BEGIN SOLUTION - DO NOT delete this comment for grading purposes\n",
    "    target_attribute_name='sentiment', # Replace None\n",
    "    base_job_name=auto_ml_job_name, # Replace None\n",
    "    output_path=model_output_s3_uri, # Replace None\n",
    "    ### END SOLUTION - DO NOT delete this comment for grading purposes\n",
    "    max_candidates=max_candidates,\n",
    "    sagemaker_session=sess,\n",
    "    role=role,\n",
    "    max_runtime_per_training_job_in_seconds=1200,\n",
    "    total_job_runtime_in_seconds=7200\n",
    ")"
   ]
  },
  {
   "cell_type": "markdown",
   "id": "2cd11265",
   "metadata": {},
   "source": [
    "Launch the Autopilot job."
   ]
  },
  {
   "cell_type": "code",
   "execution_count": null,
   "id": "11a2322f",
   "metadata": {},
   "outputs": [],
   "source": [
    "automl.fit(\n",
    "    ### BEGIN SOLUTION - DO NOT delete this comment for grading purposes\n",
    "    model_output_s3_uri, # Replace None\n",
    "    ### END SOLUTION - DO NOT delete this comment for grading purposes\n",
    "    job_name=auto_ml_job_name, \n",
    "    wait=False, \n",
    "    logs=False"
   ]
  },
  {
   "cell_type": "markdown",
   "id": "bfd6952e",
   "metadata": {},
   "source": [
    "Once the Autopilot job has been launched, you can track the job progress directly from the notebook using the SDK capabilities.Function describe_auto_ml_job of the Amazon SageMaker service returns the information about the AutoML job in dictionary format."
   ]
  },
  {
   "cell_type": "code",
   "execution_count": null,
   "id": "bd170b3e",
   "metadata": {},
   "outputs": [],
   "source": [
    "job_description_response = automl.describe_auto_ml_job(job_name=auto_ml_job_name)"
   ]
  },
  {
   "cell_type": "markdown",
   "id": "03f22db5",
   "metadata": {},
   "source": [
    "In this notebook, you will use the following scheme to track the job progress:"
   ]
  },
  {
   "cell_type": "code",
   "execution_count": null,
   "id": "f2b3d3b8",
   "metadata": {},
   "outputs": [],
   "source": [
    "while 'AutoMLJobStatus' not in job_description_response.keys() and 'AutoMLJobSecondaryStatus' not in job_description_response.keys():\n",
    "    job_description_response = automl.describe_auto_ml_job(job_name=auto_ml_job_name)\n",
    "    print('[INFO] Autopilot job has not yet started. Please wait. ')\n",
    "    # function `json.dumps` encodes JSON string for printing.\n",
    "    print(json.dumps(job_description_response, indent=4, sort_keys=True, default=str))\n",
    "    print('[INFO] Waiting for Autopilot job to start...')\n",
    "    sleep(15)\n",
    "\n",
    "print('[OK] AutoML job started.')"
   ]
  },
  {
   "cell_type": "code",
   "execution_count": null,
   "id": "193feae0",
   "metadata": {},
   "outputs": [],
   "source": [
    "from IPython.core.display import display, HTML\n",
    "\n",
    "display(HTML('<b>Review <a target=\"blank\" href=\"https://console.aws.amazon.com/sagemaker/home?region={}#/processing-jobs/\">processing jobs</a></b>'.format(region)))\n"
   ]
  },
  {
   "cell_type": "markdown",
   "id": "4daca48d",
   "metadata": {},
   "source": [
    "Here you will use the same scheme as above to check the completion of the data analysis step."
   ]
  },
  {
   "cell_type": "code",
   "execution_count": null,
   "id": "e134a2a4",
   "metadata": {},
   "outputs": [],
   "source": [
    "%%time\n",
    "\n",
    "job_status = job_description_response['AutoMLJobStatus']\n",
    "job_sec_status = job_description_response['AutoMLJobSecondaryStatus']\n",
    "\n",
    "if job_status not in ('Stopped', 'Failed'):\n",
    "    while job_status in ('InProgress') and job_sec_status in ('Starting', 'AnalyzingData'):\n",
    "        job_description_response = automl.describe_auto_ml_job(job_name=auto_ml_job_name)\n",
    "        job_status = job_description_response['AutoMLJobStatus']\n",
    "        job_sec_status = job_description_response['AutoMLJobSecondaryStatus']\n",
    "        print(job_status, job_sec_status)\n",
    "        time.sleep(15)\n",
    "    print('[OK] Data analysis phase completed.\\n')\n",
    "    \n",
    "print(json.dumps(job_description_response, indent=4, sort_keys=True, default=str))"
   ]
  },
  {
   "cell_type": "markdown",
   "id": "6d063987",
   "metadata": {},
   "source": [
    "Once data analysis is complete, SageMaker AutoPilot generates two notebooks:\n",
    "\n",
    "    Data exploration\n",
    "    Candidate definition\n",
    "Check if the Autopilot job artifacts have been generated.\n"
   ]
  },
  {
   "cell_type": "code",
   "execution_count": null,
   "id": "a009b8e6",
   "metadata": {},
   "outputs": [],
   "source": [
    "### BEGIN SOLUTION - DO NOT delete this comment for grading purposes\n",
    "# get the information about the running Autopilot job\n",
    "job_description_response = automl.describe_auto_ml_job(job_name=auto_ml_job_name) # Replace None\n",
    "\n",
    "# keep in the while loop until the Autopilot job artifacts will be generated\n",
    "while'AutoMLJobStatus' not in job_description_response.keys(): # Replace all None\n",
    "    # update the information about the running Autopilot job\n",
    "    job_description_response = automl.describe_auto_ml_job(job_name=auto_ml_job_name) # Replace None\n",
    "    ### END SOLUTION - DO NOT delete this comment for grading purposes\n",
    "    print('[INFO] Autopilot job has not yet generated the artifacts. Please wait. ')\n",
    "    print(json.dumps(job_description_response, indent=4, sort_keys=True, default=str))\n",
    "    print('[INFO] Waiting for AutoMLJobArtifacts...')\n",
    "    time.sleep(15)\n",
    "\n",
    "print('[OK] AutoMLJobArtifacts generated.')"
   ]
  },
  {
   "cell_type": "markdown",
   "id": "c7b33a33",
   "metadata": {},
   "source": [
    "Check if the notebooks have been created."
   ]
  },
  {
   "cell_type": "code",
   "execution_count": null,
   "id": "3503666f",
   "metadata": {},
   "outputs": [],
   "source": [
    "### BEGIN SOLUTION - DO NOT delete this comment for grading purposes\n",
    "# get the information about the running Autopilot job\n",
    "job_description_response = automl.describe_auto_ml_job(job_name=auto_ml_job_name) # Replace None\n",
    "\n",
    "# keep in the while loop until the notebooks will be created\n",
    "while 'DataExplorationNotebookLocation' not in job_description_response['AutoMLJobArtifacts']: # Replace all None\n",
    "    # update the information about the running Autopilot job\n",
    "    job_description_response = automl.describe_auto_ml_job(job_name=auto_ml_job_name) # Replace None\n",
    "    ### END SOLUTION - DO NOT delete this comment for grading purposes\n",
    "    print('[INFO] Autopilot job has not yet generated the notebooks. Please wait. ')\n",
    "    print(json.dumps(job_description_response, indent=4, sort_keys=True, default=str))\n",
    "    print('[INFO] Waiting for DataExplorationNotebookLocation...')\n",
    "    time.sleep(15)\n",
    "\n",
    "print('[OK] DataExplorationNotebookLocation found.')   "
   ]
  },
  {
   "cell_type": "markdown",
   "id": "deebd99d",
   "metadata": {},
   "source": [
    "Check the completion of the feature engineering step"
   ]
  },
  {
   "cell_type": "code",
   "execution_count": null,
   "id": "7805fb55",
   "metadata": {},
   "outputs": [],
   "source": [
    "%%time\n",
    "\n",
    "job_description_response = automl.describe_auto_ml_job(job_name=auto_ml_job_name)\n",
    "job_status = job_description_response['AutoMLJobStatus']\n",
    "job_sec_status = job_description_response['AutoMLJobSecondaryStatus']\n",
    "print(job_status)\n",
    "print(job_sec_status)\n",
    "if job_status not in ('Stopped', 'Failed'):\n",
    "    ### BEGIN SOLUTION - DO NOT delete this comment for grading purposes\n",
    "    while job_status == 'InProgress' and job_sec_status == 'FeatureEngineering': # Replace all None\n",
    "    ### END SOLUTION - DO NOT delete this comment for grading purposes\n",
    "        job_description_response = automl.describe_auto_ml_job(job_name=auto_ml_job_name)\n",
    "        job_status = job_description_response['AutoMLJobStatus']\n",
    "        job_sec_status = job_description_response['AutoMLJobSecondaryStatus']\n",
    "        print(job_status, job_sec_status)\n",
    "        time.sleep(5)\n",
    "    print('[OK] Feature engineering phase completed.\\n')\n",
    "    \n",
    "print(json.dumps(job_description_response, indent=4, sort_keys=True, default=str))"
   ]
  },
  {
   "cell_type": "markdown",
   "id": "7d4adaab",
   "metadata": {},
   "source": [
    "When you launched the Autopilot job, you requested that 3 model candidates are generated and compared. Therefore, you should see three (3) SageMaker training jobs below."
   ]
  },
  {
   "cell_type": "code",
   "execution_count": null,
   "id": "65f61bdb",
   "metadata": {},
   "outputs": [],
   "source": [
    "from IPython.core.display import display, HTML\n",
    "\n",
    "display(HTML('<b>Review <a target=\"blank\" href=\"https://console.aws.amazon.com/sagemaker/home?region={}#/hyper-tuning-jobs/\">hyper-parameter tuning jobs</a></b>'.format(region)))\n"
   ]
  },
  {
   "cell_type": "markdown",
   "id": "703d0481",
   "metadata": {},
   "source": [
    "Check the completion of the model tuning step."
   ]
  },
  {
   "cell_type": "code",
   "execution_count": null,
   "id": "35bc92e3",
   "metadata": {},
   "outputs": [],
   "source": [
    "%%time\n",
    "\n",
    "job_description_response = automl.describe_auto_ml_job(job_name=auto_ml_job_name)\n",
    "job_status = job_description_response['AutoMLJobStatus']\n",
    "job_sec_status = job_description_response['AutoMLJobSecondaryStatus']\n",
    "print(job_status)\n",
    "print(job_sec_status)\n",
    "if job_status not in ('Stopped', 'Failed'):\n",
    "    ### BEGIN SOLUTION - DO NOT delete this comment for grading purposes\n",
    "    while job_status == 'InProgress' and job_sec_status == 'ModelTuning': # Replace all None\n",
    "    ### END SOLUTION - DO NOT delete this comment for grading purposes\n",
    "        job_description_response = automl.describe_auto_ml_job(job_name=auto_ml_job_name)\n",
    "        job_status = job_description_response['AutoMLJobStatus']\n",
    "        job_sec_status = job_description_response['AutoMLJobSecondaryStatus']\n",
    "        print(job_status, job_sec_status)\n",
    "        time.sleep(5)\n",
    "    print('[OK] Model tuning phase completed.\\n')\n",
    "    \n",
    "print(json.dumps(job_description_response, indent=4, sort_keys=True, default=str))\n"
   ]
  },
  {
   "cell_type": "markdown",
   "id": "caaf58cd",
   "metadata": {},
   "source": [
    "Finally, you can check the completion of the Autopilot job looking for the Completed job status."
   ]
  },
  {
   "cell_type": "code",
   "execution_count": null,
   "id": "5b529fc3",
   "metadata": {},
   "outputs": [],
   "source": [
    "%%time\n",
    "\n",
    "from pprint import pprint\n",
    "\n",
    "job_description_response = automl.describe_auto_ml_job(job_name=auto_ml_job_name)\n",
    "pprint(job_description_response)\n",
    "job_status = job_description_response['AutoMLJobStatus']\n",
    "job_sec_status = job_description_response['AutoMLJobSecondaryStatus']\n",
    "print('Job status:  {}'.format(job_status))\n",
    "print('Secondary job status:  {}'.format(job_sec_status))\n",
    "if job_status not in ('Stopped', 'Failed'):\n",
    "    while job_status not in ('Completed'):\n",
    "        job_description_response = automl.describe_auto_ml_job(job_name=auto_ml_job_name)\n",
    "        job_status = job_description_response['AutoMLJobStatus']\n",
    "        job_sec_status = job_description_response['AutoMLJobSecondaryStatus']\n",
    "        print('Job status:  {}'.format(job_status))\n",
    "        print('Secondary job status:  {}'.format(job_sec_status))        \n",
    "        time.sleep(10)\n",
    "    print('[OK] Autopilot job completed.\\n')\n",
    "else:\n",
    "    print('Job status: {}'.format(job_status))\n",
    "    print('Secondary job status: {}'.format(job_status))"
   ]
  },
  {
   "cell_type": "code",
   "execution_count": null,
   "id": "27b7b2ea",
   "metadata": {},
   "outputs": [],
   "source": [
    "Once model tuning is complete, you can view all the candidates (pipeline evaluations with different hyperparameter combinations) that were explored by AutoML and sort them by their final performance metric."
   ]
  },
  {
   "cell_type": "code",
   "execution_count": null,
   "id": "d5183679",
   "metadata": {},
   "outputs": [],
   "source": [
    "candidates = automl.list_candidates(\n",
    "    ### BEGIN SOLUTION - DO NOT delete this comment for grading purposes\n",
    "    job_name=auto_ml_job_name, # Replace None\n",
    "    sort_by='FinalObjectiveMetricValue' # Replace None\n",
    "    ### END SOLUTION - DO NOT delete this comment for grading purposes\n",
    ")"
   ]
  },
  {
   "cell_type": "markdown",
   "id": "b837e12b",
   "metadata": {},
   "source": [
    "You can review the response syntax and response elements of the function list_candidates in the documentation. Now let's put the candidate existence check into the loop:\n"
   ]
  },
  {
   "cell_type": "code",
   "execution_count": null,
   "id": "74657c9f",
   "metadata": {},
   "outputs": [],
   "source": [
    "while candidates == []:\n",
    "    candidates = automl.list_candidates(job_name=auto_ml_job_name)\n",
    "    print('[INFO] Autopilot job is generating the candidates. Please wait.')\n",
    "    time.sleep(10)\n",
    "\n",
    "print('[OK] Candidates generated.') "
   ]
  },
  {
   "cell_type": "markdown",
   "id": "6110fa05",
   "metadata": {},
   "source": [
    "The information about each of the candidates is in the dictionary with the following keys:"
   ]
  },
  {
   "cell_type": "code",
   "execution_count": null,
   "id": "728cd5ff",
   "metadata": {},
   "outputs": [],
   "source": [
    "print(candidates[0].keys())"
   ]
  },
  {
   "cell_type": "markdown",
   "id": "4cbe5470",
   "metadata": {},
   "source": [
    "CandidateName contains the candidate name and the FinalAutoMLJobObjectiveMetric element contains the metric information which can be used to identify the best candidate later. Let's check that they were generated."
   ]
  },
  {
   "cell_type": "code",
   "execution_count": null,
   "id": "b7261268",
   "metadata": {},
   "outputs": [],
   "source": [
    "while 'FinalAutoMLJobObjectiveMetric' not in candidates[0]:\n",
    "    candidates = automl.list_candidates(job_name=auto_ml_job_name)\n",
    "    print('[INFO] Autopilot job is generating FinalAutoMLJobObjectiveMetric. Please wait. ')\n",
    "    sleep(10)\n",
    "\n",
    "print('[OK] FinalAutoMLJobObjectiveMetric generated.')"
   ]
  },
  {
   "cell_type": "code",
   "execution_count": null,
   "id": "d703127f",
   "metadata": {},
   "outputs": [],
   "source": [
    "print(json.dumps(candidates, indent=4, sort_keys=True, default=str))"
   ]
  },
  {
   "cell_type": "code",
   "execution_count": null,
   "id": "12753dd0",
   "metadata": {},
   "outputs": [],
   "source": [
    "You can print the names of the candidates with their metric values:"
   ]
  },
  {
   "cell_type": "code",
   "execution_count": null,
   "id": "52531e58",
   "metadata": {},
   "outputs": [],
   "source": [
    "print(\"metric \" + str(candidates[0]['FinalAutoMLJobObjectiveMetric']['MetricName']))\n",
    "\n",
    "for index, candidate in enumerate(candidates):\n",
    "    print(str(index) + \"  \" \n",
    "        + candidate['CandidateName'] + \"  \" \n",
    "        + str(candidate['FinalAutoMLJobObjectiveMetric']['Value']))"
   ]
  },
  {
   "cell_type": "markdown",
   "id": "3ac39a81",
   "metadata": {},
   "source": [
    "Now that you have successfully completed the Autopilot job on the dataset and visualized the trials, you can get the information about the best candidate model and review it."
   ]
  },
  {
   "cell_type": "code",
   "execution_count": null,
   "id": "3a74cfa1",
   "metadata": {},
   "outputs": [],
   "source": [
    "candidates = automl.list_candidates(job_name=auto_ml_job_name)\n",
    "\n",
    "if candidates != []:\n",
    "    best_candidate = automl.best_candidate(\n",
    "        ### BEGIN SOLUTION - DO NOT delete this comment for grading purposes\n",
    "        job_name=auto_ml_job_name # Replace None\n",
    "        ### END SOLUTION - DO NOT delete this comment for grading purposes\n",
    "    )\n",
    "    print(json.dumps(best_candidate, indent=4, sort_keys=True, default=str))"
   ]
  },
  {
   "cell_type": "code",
   "execution_count": null,
   "id": "bccfd425",
   "metadata": {},
   "outputs": [],
   "source": [
    "Check the existence of the candidate name for the best candidate.\n"
   ]
  },
  {
   "cell_type": "code",
   "execution_count": null,
   "id": "2ba562d9",
   "metadata": {},
   "outputs": [],
   "source": [
    "while 'CandidateName' not in best_candidate:\n",
    "    best_candidate = automl.best_candidate(job_name=auto_ml_job_name)\n",
    "    print('[INFO] Autopilot Job is generating BestCandidate CandidateName. Please wait. ')\n",
    "    print(json.dumps(best_candidate, indent=4, sort_keys=True, default=str))\n",
    "    sleep(10)\n",
    "\n",
    "print('[OK] BestCandidate CandidateName generated.')  "
   ]
  },
  {
   "cell_type": "code",
   "execution_count": null,
   "id": "63fd7097",
   "metadata": {},
   "outputs": [],
   "source": [
    "Check the existence of the metric value for the best candidate.\n"
   ]
  },
  {
   "cell_type": "code",
   "execution_count": null,
   "id": "87fa67d1",
   "metadata": {},
   "outputs": [],
   "source": [
    "while 'FinalAutoMLJobObjectiveMetric' not in best_candidate:\n",
    "    best_candidate = automl.best_candidate(job_name=auto_ml_job_name)\n",
    "    print('[INFO] Autopilot Job is generating BestCandidate FinalAutoMLJobObjectiveMetric. Please wait. ')\n",
    "    print(json.dumps(best_candidate, indent=4, sort_keys=True, default=str))\n",
    "    sleep(10)\n",
    "\n",
    "print('[OK] BestCandidate FinalAutoMLJobObjectiveMetric generated.')  "
   ]
  },
  {
   "cell_type": "markdown",
   "id": "d9f64b44",
   "metadata": {},
   "source": [
    "Print the information about the best candidate:\n"
   ]
  },
  {
   "cell_type": "code",
   "execution_count": null,
   "id": "7b16928d",
   "metadata": {},
   "outputs": [],
   "source": [
    "best_candidate_identifier = best_candidate['CandidateName']\n",
    "print(\"Candidate name: \" + best_candidate_identifier)\n",
    "print(\"Metric name: \" + best_candidate['FinalAutoMLJobObjectiveMetric']['MetricName'])\n",
    "print(\"Metric value: \" + str(best_candidate['FinalAutoMLJobObjectiveMetric']['Value']))"
   ]
  },
  {
   "cell_type": "markdown",
   "id": "25b78934",
   "metadata": {},
   "source": [
    "You will see the artifacts generated by Autopilot including the following:"
   ]
  },
  {
   "cell_type": "code",
   "execution_count": null,
   "id": "73f8ae03",
   "metadata": {},
   "outputs": [],
   "source": [
    "from IPython.core.display import display, HTML\n",
    "\n",
    "display(\n",
    "    HTML(\n",
    "        '<b>Review all <a target=\"blank\" href=\"https://s3.console.aws.amazon.com/s3/buckets/{}?region={}&prefix=autopilot/{}/\">output in S3</a></b>'.format(\n",
    "            bucket, region, auto_ml_job_name\n",
    "        )\n",
    "    )\n",
    ")"
   ]
  },
  {
   "cell_type": "markdown",
   "id": "75706129",
   "metadata": {},
   "source": [
    "Deploy best candidate model"
   ]
  },
  {
   "cell_type": "code",
   "execution_count": null,
   "id": "8dbf9ee7",
   "metadata": {},
   "outputs": [],
   "source": [
    "inference_response_keys = ['predicted_label', 'probability']"
   ]
  },
  {
   "cell_type": "markdown",
   "id": "387f3fac",
   "metadata": {},
   "source": [
    "Now you will create a SageMaker endpoint from the best candidate generated by Autopilot. Wait for SageMaker to deploy the endpoint."
   ]
  },
  {
   "cell_type": "code",
   "execution_count": null,
   "id": "9e1851d7",
   "metadata": {},
   "outputs": [],
   "source": [
    "autopilot_model = automl.deploy(\n",
    "    initial_instance_count=1,\n",
    "    instance_type='ml.m5.large',\n",
    "    candidate=best_candidate,\n",
    "    inference_response_keys=inference_response_keys,\n",
    "    predictor_cls=sagemaker.predictor.Predictor,\n",
    "    serializer=sagemaker.serializers.JSONSerializer(),\n",
    "    deserializer=sagemaker.deserializers.JSONDeserializer()\n",
    ")\n",
    "\n",
    "print('\\nEndpoint name:  {}'.format(autopilot_model.endpoint_name))"
   ]
  },
  {
   "cell_type": "code",
   "execution_count": null,
   "id": "298f0496",
   "metadata": {},
   "outputs": [],
   "source": [
    "Test the model"
   ]
  },
  {
   "cell_type": "code",
   "execution_count": null,
   "id": "37786b83",
   "metadata": {},
   "outputs": [],
   "source": [
    "#sm_runtime = boto3.client('sagemaker-runtime')\n",
    "\n",
    "review_list = ['This product is great!',\n",
    "               'OK, but not great.',\n",
    "               'This is not the right product.']\n",
    "\n",
    "for review in review_list:\n",
    "    \n",
    "    # remove commas from the review since we're passing the inputs as a CSV\n",
    "    review = review.replace(\",\", \"\")\n",
    "\n",
    "    response = sm_runtime.invoke_endpoint(\n",
    "        EndpointName=autopilot_model.endpoint_name, # endpoint name\n",
    "        ContentType='text/csv', # type of input data\n",
    "        Accept='text/csv', # type of the inference in the response\n",
    "        Body=review # review text\n",
    "        )\n",
    "\n",
    "    response_body=response['Body'].read().decode('utf-8').strip().split(',')\n",
    "\n",
    "    print('Review: ', review, ' Predicated class: {}'.format(response_body[0]))\n",
    "\n",
    "print(\"(-1 = Negative, 0=Neutral, 1=Positive)\")"
   ]
  },
  {
   "cell_type": "markdown",
   "id": "fe5b26a9",
   "metadata": {},
   "source": [
    "You used Amazon SageMaker Autopilot to automatically find the best model, hyper-parameters, and feature-engineering scripts for our dataset. Autopilot uses a uniquely-transparent approach to AutoML by generating re-usable Python scripts and notebooks."
   ]
  }
 ],
 "metadata": {
  "kernelspec": {
   "display_name": "Python 3",
   "language": "python",
   "name": "python3"
  },
  "language_info": {
   "codemirror_mode": {
    "name": "ipython",
    "version": 3
   },
   "file_extension": ".py",
   "mimetype": "text/x-python",
   "name": "python",
   "nbconvert_exporter": "python",
   "pygments_lexer": "ipython3",
   "version": "3.7.10"
  },
  "varInspector": {
   "cols": {
    "lenName": 16,
    "lenType": 16,
    "lenVar": 40
   },
   "kernels_config": {
    "python": {
     "delete_cmd_postfix": "",
     "delete_cmd_prefix": "del ",
     "library": "var_list.py",
     "varRefreshCmd": "print(var_dic_list())"
    },
    "r": {
     "delete_cmd_postfix": ") ",
     "delete_cmd_prefix": "rm(",
     "library": "var_list.r",
     "varRefreshCmd": "cat(var_dic_list()) "
    }
   },
   "types_to_exclude": [
    "module",
    "function",
    "builtin_function_or_method",
    "instance",
    "_Feature"
   ],
   "window_display": false
  }
 },
 "nbformat": 4,
 "nbformat_minor": 5
}
